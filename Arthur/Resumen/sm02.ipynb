{
 "cells": [
  {
   "cell_type": "markdown",
   "metadata": {},
   "source": [
    "# Herencia / Polimorfismo"
   ]
  },
  {
   "cell_type": "markdown",
   "metadata": {},
   "source": [
    "Overriding: Reescribe el metodo\n",
    "\n",
    "Overloading: Define dos o mas veces la misma funcion con distintos args y kwargs."
   ]
  },
  {
   "cell_type": "code",
   "execution_count": 12,
   "metadata": {},
   "outputs": [
    {
     "name": "stdout",
     "output_type": "stream",
     "text": [
      "Hello\n",
      "Hi\n",
      "False\n",
      "True\n",
      "False\n",
      "Hello\n",
      "Me llamo Arthur\n",
      "Me llamo Ro\n"
     ]
    }
   ],
   "source": [
    "class A():\n",
    "    def __init__(self, n, a, h):\n",
    "        self.name = n\n",
    "        self.age = a\n",
    "        self.height = h\n",
    "\n",
    "        self.isShe = False\n",
    "\n",
    "    def talk(self):\n",
    "        print('Hello')\n",
    "\n",
    "    def __repr__(self) -> str:\n",
    "        return (f'Me llamo {self.name}')\n",
    "\n",
    "class B(A):\n",
    "    def __init__(self, n, a, h):\n",
    "        super().__init__(n, a, h)\n",
    "        #A.__init__(self, n, a, h)\n",
    "\n",
    "    \n",
    "    def talk(self):\n",
    "        print('Hi')\n",
    "        self.isShe = True\n",
    "\n",
    "    def salute(self):\n",
    "        super().talk()\n",
    "\n",
    "    def __repr__(self) -> str:\n",
    "        return (f'Me llamo {self.name}')\n",
    "\n",
    "\n",
    "\n",
    "ella = A('Ro', 20, 1.74)\n",
    "yo = B('Arthur', 20, 1.80)\n",
    "ella.talk()\n",
    "yo.talk()\n",
    "print(ella.isShe)\n",
    "print(yo.isShe)\n",
    "print(ella.isShe)\n",
    "yo.salute()\n",
    "print(yo)\n",
    "print(ella)\n"
   ]
  },
  {
   "cell_type": "markdown",
   "metadata": {},
   "source": [
    "# MultiHerencia"
   ]
  },
  {
   "cell_type": "code",
   "execution_count": 21,
   "metadata": {},
   "outputs": [
    {
     "name": "stdout",
     "output_type": "stream",
     "text": [
      "Emilia Donoso\n",
      "Inteligencia de Máquina\n",
      "Ciencia De La Computación\n"
     ]
    }
   ],
   "source": [
    "class Investigador:\n",
    "\n",
    "    def __init__(self, area='', **kwargs):\n",
    "        # Utilizamos super() para heredar correctamente\n",
    "        super().__init__(**kwargs)\n",
    "        self.area = area\n",
    "        self.num_publicaciones = 0\n",
    "\n",
    "\n",
    "class Docente:\n",
    "\n",
    "    def __init__(self, departamento='', **kwargs):\n",
    "        # Utilizamos super() para heredar correctamente\n",
    "        super().__init__(**kwargs)\n",
    "        self.departamento = departamento\n",
    "        self.num_cursos = 3\n",
    "\n",
    "# Aquí decimos que Academico hereda tanto de Docente como de Investigador\n",
    "class Academico(Docente, Investigador):\n",
    "    \n",
    "    def __init__(self, nombre, oficina, **kwargs):\n",
    "        # Utilizamos super() para heredar correctamente\n",
    "        super().__init__(**kwargs)\n",
    "        self.nombre = nombre\n",
    "        self.oficina = oficina\n",
    "\n",
    "\n",
    "p1 = Academico(\n",
    "    \"Emilia Donoso\",\n",
    "    oficina=\"O5\",\n",
    "    area=\"Inteligencia de Máquina\",\n",
    "    departamento=\"Ciencia De La Computación\"\n",
    ")\n",
    "print(p1.nombre)\n",
    "print(p1.area)\n",
    "print(p1.departamento)"
   ]
  },
  {
   "cell_type": "markdown",
   "metadata": {},
   "source": [
    "Problema del diamante: Cuando una sub-sub-clase hereda de 2 sub-clases y llama a metodos por separados"
   ]
  },
  {
   "cell_type": "code",
   "execution_count": 23,
   "metadata": {},
   "outputs": [
    {
     "name": "stdout",
     "output_type": "stream",
     "text": [
      "(<class '__main__.D'>, <class '__main__.B'>, <class '__main__.C'>, <class '__main__.A'>, <class 'object'>)\n"
     ]
    }
   ],
   "source": [
    "class A():\n",
    "    def __init__(self) -> None:\n",
    "        pass\n",
    "\n",
    "    def meth(self):\n",
    "        pass\n",
    "\n",
    "class B(A):\n",
    "    def __init__(self) -> None:\n",
    "        super().__init__()\n",
    "\n",
    "    def meth(self):\n",
    "        A.meth()\n",
    "\n",
    "class C(A):\n",
    "    def __init__(self) -> None:\n",
    "        super().__init__()\n",
    "\n",
    "    def meth(self):\n",
    "        A.meth()\n",
    "\n",
    "class D(B, C):\n",
    "    def __init__(self) -> None:\n",
    "        super().__init__()\n",
    "\n",
    "    def meth1(self):\n",
    "        # TODO, aqui\n",
    "        B.meth()\n",
    "        C.meth()\n",
    "\n",
    "    def meth2(self):\n",
    "        # TODO, solucion\n",
    "        super().meth()\n",
    "\n",
    "orden = D.__mro__\n",
    "print(orden)\n"
   ]
  },
  {
   "cell_type": "markdown",
   "metadata": {},
   "source": [
    "# Abstract Class"
   ]
  },
  {
   "cell_type": "markdown",
   "metadata": {},
   "source": [
    "Esqueleto de las sub-clases que no es instanciable\n",
    "La sub-clase debe instanciar todos los metodos de la clase abstracta"
   ]
  },
  {
   "cell_type": "code",
   "execution_count": 24,
   "metadata": {},
   "outputs": [
    {
     "name": "stdout",
     "output_type": "stream",
     "text": [
      "daem\n",
      "hohoho\n"
     ]
    }
   ],
   "source": [
    "from abc import ABC, abstractclassmethod\n",
    "\n",
    "class Base(ABC):\n",
    "\n",
    "    def __init__(self) -> None:\n",
    "        super().__init__()\n",
    "\n",
    "    @abstractclassmethod\n",
    "    def meth1(self):\n",
    "        pass\n",
    "\n",
    "    @abstractclassmethod\n",
    "    def meth2(self):\n",
    "        pass\n",
    "\n",
    "\n",
    "class Top(Base):\n",
    "    \n",
    "    def __init__(self) -> None:\n",
    "        super().__init__()\n",
    "\n",
    "    def meth1(self):\n",
    "        print('daem')\n",
    "\n",
    "    def meth2(self):\n",
    "        print('hohoho')\n",
    "\n",
    "sub = Top()\n",
    "sub.meth1()\n",
    "sub.meth2()"
   ]
  },
  {
   "cell_type": "code",
   "execution_count": null,
   "metadata": {},
   "outputs": [],
   "source": []
  }
 ],
 "metadata": {
  "kernelspec": {
   "display_name": "Python 3",
   "language": "python",
   "name": "python3"
  },
  "language_info": {
   "codemirror_mode": {
    "name": "ipython",
    "version": 3
   },
   "file_extension": ".py",
   "mimetype": "text/x-python",
   "name": "python",
   "nbconvert_exporter": "python",
   "pygments_lexer": "ipython3",
   "version": "3.10.11"
  }
 },
 "nbformat": 4,
 "nbformat_minor": 2
}
