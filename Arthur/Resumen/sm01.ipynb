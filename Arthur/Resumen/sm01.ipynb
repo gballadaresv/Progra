{
 "cells": [
  {
   "cell_type": "markdown",
   "metadata": {},
   "source": [
    "# Properties"
   ]
  },
  {
   "cell_type": "markdown",
   "metadata": {},
   "source": [
    "Get / Set"
   ]
  },
  {
   "cell_type": "code",
   "execution_count": null,
   "metadata": {},
   "outputs": [],
   "source": [
    "class Default():\n",
    "    def __init__(self, *args, **kwargs) -> None:\n",
    "        pass\n",
    "\n",
    "    def __get__some(self):\n",
    "        return (self)\n",
    "    \n",
    "    def __set__some(self):\n",
    "        if None:\n",
    "            try:\n",
    "                return (self)\n",
    "            except:\n",
    "                return (self)\n",
    "        return (self)\n",
    "            \n",
    "    def __del__some(self):\n",
    "        del self"
   ]
  },
  {
   "cell_type": "code",
   "execution_count": null,
   "metadata": {},
   "outputs": [],
   "source": [
    "class Default():\n",
    "    def __init__(self, *args, **kwargs) -> None:\n",
    "        pass\n",
    "\n",
    "    @property\n",
    "    def some(self):\n",
    "        return (self)\n",
    "    \n",
    "    @some.setter\n",
    "    def __set__some(self):\n",
    "        if None:\n",
    "            try:\n",
    "                return (self)\n",
    "            except:\n",
    "                return (self)\n",
    "        return (self)\n",
    "    \n",
    "    @some.deleter\n",
    "    def some(self):\n",
    "        del self"
   ]
  },
  {
   "cell_type": "markdown",
   "metadata": {},
   "source": [
    "# Encapsulamiento"
   ]
  },
  {
   "cell_type": "markdown",
   "metadata": {},
   "source": [
    "Encapsular sirve para que una clase no modifique metodos de otra clase"
   ]
  },
  {
   "cell_type": "code",
   "execution_count": null,
   "metadata": {},
   "outputs": [],
   "source": [
    "class Default():\n",
    "    def __init__(self, *args, **kwargs) -> None:\n",
    "        self.attr1 = args\n",
    "        self._attr2 = kwargs\n",
    "\n",
    "    def meth1(self):\n",
    "        pass\n",
    "\n",
    "    def _meth2(self):\n",
    "        pass"
   ]
  }
 ],
 "metadata": {
  "language_info": {
   "name": "python"
  }
 },
 "nbformat": 4,
 "nbformat_minor": 2
}
