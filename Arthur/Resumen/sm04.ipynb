{
 "cells": [
  {
   "cell_type": "markdown",
   "metadata": {},
   "source": [
    "# PyQt"
   ]
  },
  {
   "cell_type": "markdown",
   "metadata": {},
   "source": [
    "- **QtWidgets**: contiene las clases que brindan los elementos clásicos de interfaces gráficas para aplicaciones en desktop PCs.\n",
    "- **QtCore**: incluye las clases para funcionalidades no-GUI, como: ciclo de eventos, manejo de archivos, tiempo, threads, etc.\n",
    "- **QtGui**: contiene las classes con componentes para integración de ventanas, manejo de eventos, etc.\n",
    "- **QtNetwork**: provee las clases para crear aplicaciones gráficas en entornos de red basadas en TCP/IP, UDP.\n",
    "- **QtOpenGL**: incluye las clases para el uso de OpenGL durante renderizado 3D.\n",
    "- **QtSvg**: provee de clases para mostrar archivos de gráficos vectoriales (SVG).\n",
    "- **QtSql**: incluye funcionalidades para el trabajo con bases de datos SQL.\n",
    "- **QtBluetooth**: contiene clases que permiten la búsqueda e interacción con dispositivos a través de bluetooth."
   ]
  }
 ],
 "metadata": {
  "language_info": {
   "name": "python"
  }
 },
 "nbformat": 4,
 "nbformat_minor": 2
}
