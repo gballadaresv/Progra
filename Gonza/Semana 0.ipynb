{
 "cells": [
  {
   "cell_type": "markdown",
   "metadata": {},
   "source": [
    "## Paths:\n",
    "\n",
    "-Absoluto: /bla/bla\n",
    "\n",
    "-Relativo: bla/bla"
   ]
  },
  {
   "cell_type": "code",
   "execution_count": null,
   "metadata": {},
   "outputs": [],
   "source": [
    "import os\n",
    "\n",
    "ruta = os.path.join(\"path\")\n",
    "n_carpeta = os.path.dirname(\"path\")\n",
    "n_archivo = os.path.basename(\"path\")\n",
    "name, extension = os.path.splitext(\"path\")\n",
    "lista_ruta = os.listdir(\"carpeta\") # Se puede usar (path.join())"
   ]
  }
 ],
 "metadata": {
  "language_info": {
   "name": "python"
  }
 },
 "nbformat": 4,
 "nbformat_minor": 2
}
