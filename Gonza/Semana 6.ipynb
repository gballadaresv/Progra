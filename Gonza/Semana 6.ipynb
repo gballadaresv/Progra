{
 "cells": [
  {
   "cell_type": "markdown",
   "metadata": {},
   "source": [
    "## QThread\n",
    "\n",
    "Es lo mismo q un thread, pero más orientado a su uso en PyQt."
   ]
  },
  {
   "cell_type": "code",
   "execution_count": null,
   "metadata": {},
   "outputs": [],
   "source": [
    "import sys\n",
    "from PyQt6.QtCore import QThread, pyqtSignal\n",
    "from PyQt6.QtWidgets import QApplication, QWidget, QLabel, QPushButton\n",
    "\n",
    "class MyThread(QThread):\n",
    "    def __init__(self, senal):\n",
    "        super()__init__()\n",
    "        self.senal = senal\n",
    "\n",
    "    def run(self):\n",
    "        self.senal.emit() # El thread una vez comenzado, emite una señal\n",
    "\n",
    "class Ventana(QWidget):\n",
    "\n",
    "    senal = pyqtSignal(str)\n",
    "\n",
    "    def __init__(self):\n",
    "        self.label = QLabel(\"texto\", self)\n",
    "        self.boton = QPushButton(\"botob\", self)\n",
    "        self.boton.clicked.connect(self.ejecutar_threads) # Cuando se apreta el botón, se llama a la función que inicia los threads\n",
    "        self.senal.connect(self.actualizar_labels) # Cuando se reciba la señal, llama a la función actualizar_labels\n",
    "\n",
    "    def ejecutar_threands(self):\n",
    "        self.thread.isRunnin() # La versión PyQt de is_alive()\n",
    "        self.thread = MyThread(self.senal)\n",
    "        self.thread.start() # Comienza el thread\n",
    "\n",
    "    def actualizar_label(self, evento):\n",
    "        self.label.setText(evento) # Actualiza el label con lo que se reciba con la señal\n"
   ]
  },
  {
   "cell_type": "markdown",
   "metadata": {},
   "source": [
    "## QMutex\n",
    "\n",
    "Locks para QThreads"
   ]
  },
  {
   "cell_type": "code",
   "execution_count": null,
   "metadata": {},
   "outputs": [],
   "source": [
    "from PyQt6.QtCore import QThread, QMutex\n",
    "from PyQt6.QtWidgets import QWidget\n",
    "\n",
    "class MyThread(QThread):\n",
    "    def __init__(self, mutex):\n",
    "        self.mutex = mutex\n",
    "\n",
    "    def run(self):\n",
    "        self.mutex.lock() # Adquiere el lock\n",
    "        self.mutex.unlock() # Suelta el lock\n",
    "\n",
    "class Ventana(QWidget):\n",
    "    def __init__(self):\n",
    "        super().__init__()\n",
    "        self.mutex = QMutex()\n",
    "        thread = MyThread(self.mutex) # Se crea el thread con su lock\n",
    "        thread.start()"
   ]
  },
  {
   "cell_type": "markdown",
   "metadata": {},
   "source": [
    "## QTimer\n",
    "\n",
    "Es como un QThread que se ejecuta periódicamente desde y hasta que se le indique con sus métodos."
   ]
  },
  {
   "cell_type": "code",
   "execution_count": null,
   "metadata": {},
   "outputs": [],
   "source": [
    "from PyQt6.QtCore import QTimer\n",
    "from PyQt6.QtWidgets import QWidget\n",
    "\n",
    "class Ventana(QWidget):\n",
    "    def __init__(self):\n",
    "        super()__init__()\n",
    "        \n",
    "        timer = QTimer(self)\n",
    "        timer.timeout.connect(funcion) # Una vez q se de inicio al QTimer, cada cierto tiempo llama a la función\n",
    "        timer.setInterval(1000) # Se determin el intervalo de actualización del QTimer (Está en ms, no segundos)\n",
    "        timer.start() # Se da inicio al QTimer\n",
    "        timer.stop() # Permite finalizar el QTimer\n",
    "\n",
    "        self.timer_2 = QTimer(self) # Como lo definimos con self, será un atributo de instancia,\n",
    "                                    # a diferencia del anterior, q es un único timer para toda la clase\n",
    "        self.timer_2.setSingleShot(True) # Si es SingleShot, se ejecutará sólo 1 vez, y se hará stop() automáticamente\n",
    "        self.timer_2.timeout.connect(funcion)\n",
    "        self.timer_2.setInterval(int)\n",
    "        self.timer_2.start()\n",
    "        \n",
    "\n",
    "    def funcion(self): # Esta función debe seer la q actualice la ventana\n",
    "        pass"
   ]
  },
  {
   "cell_type": "markdown",
   "metadata": {},
   "source": [
    "## Señales con QThreads\n",
    "\n",
    "Se pueden usar señales para ir modificando la posición de los widgets correspondientes"
   ]
  },
  {
   "cell_type": "code",
   "execution_count": null,
   "metadata": {},
   "outputs": [],
   "source": [
    "from PyQt6.QtCore import QThread, pyqtSignal\n",
    "from PyQt6.QtGui import QPixmap\n",
    "from PyQt6.QtWidgets import QLabel, QWidget, QApplication\n",
    "import sys\n",
    "\n",
    "class Objeto(QThread):\n",
    "\n",
    "    self.senal = senal\n",
    "\n",
    "    self._posicion = (x, y)\n",
    "\n",
    "    @property\n",
    "    def posicion(self):\n",
    "        return self._posicion\n",
    "\n",
    "    @posicion.setter\n",
    "    def posicion(self, valor):\n",
    "        self._posicion = valor # Cada vez q se actualice la posición\n",
    "        self.senal.emit() # se manda una senal para luego cambiar la posicion en la ventana\n",
    "\n",
    "    def run(self):\n",
    "        nuevo_x = self.posicion[0] + (desplazamiento)\n",
    "        nuevo_y = self.posicion[1] + (desplazamiento)\n",
    "        self.posicion = (nuevo_x, nuevo_y)\n",
    "\n",
    "class Ventana(QWidget):\n",
    "    senal = pyqtSignal(int, int) # Se crea una senal que transmita coordenadas\n",
    "\n",
    "    def __init__(self):\n",
    "        super().__init__()\n",
    "        self.label = QLabel()\n",
    "\n",
    "        self.senal.connect(self.mover) # Cuando le llegue la señal, llama a la función que moverá el widget\n",
    "\n",
    "    def mover(self, x, y):\n",
    "        self.label.move(x, y) # Mueve el label en la interfaz a las nuevas coordenadas"
   ]
  },
  {
   "cell_type": "markdown",
   "metadata": {},
   "source": [
    "## Sonidos\n",
    "\n",
    "Permite reproducir sonidos"
   ]
  },
  {
   "cell_type": "code",
   "execution_count": null,
   "metadata": {},
   "outputs": [],
   "source": [
    "from PyQt6.QtMultimedia import QtMediaPlayer, QAudioOutput, QSoundEffect\n",
    "\n",
    "class Ventana(QWidget):\n",
    "    def __init__(self):\n",
    "        super()__init__()\n",
    "\n",
    "        # Para MP3\n",
    "        self.mp3 = QMediaPlayer(self) # Se crea una instancia de audio\n",
    "        self.mp3.setAudioOutput(QAudioOutput(self)) # Se avisa al computador que tiene q salir un sonido\n",
    "        self.mp3.setSource(path_archivo.mp3) # Se le pone el path al archivo de sonido\n",
    "\n",
    "        # Para wav\n",
    "        self.wav = QSoundEffect(self)\n",
    "        self.wav.setVolume(float) # Opcional\n",
    "        self.wav.setSource(path_archivo.wav)\n",
    "\n",
    "        ## Sólo hemos creado las instancias de sonido, falta ponerle play\n",
    "        ## En ambos casos:\n",
    "\n",
    "        self.sonido.play() # Le pone play\n",
    "        self.sonido.stop() # Lo detiene\n",
    "        self.sonito.isPlaying() # Bool que indica si está sonando o no"
   ]
  },
  {
   "cell_type": "markdown",
   "metadata": {},
   "source": [
    "## Main window\n",
    "\n",
    "Permite crear ventanas con ciertas características más fácil"
   ]
  },
  {
   "cell_type": "code",
   "execution_count": null,
   "metadata": {},
   "outputs": [],
   "source": [
    "from PyQt6.QtWidgets import QMainWindow\n",
    "from PyQt6.QtGui import QIcon, QAction\n",
    "from PyQt6.QtCore import pyqtSignal\n",
    "\n",
    "class MainWindow(QMainWindow):\n",
    "    onchange_status_bar = pyqtSignal(str) # Permite modificar el statusbar de la ventana\n",
    "\n",
    "    def __init__(self):\n",
    "        super().__init__()\n",
    "        # Definir geometría\n",
    "\n",
    "        ## Acciones\n",
    "        accion.QAction(QIcon(None), \"Nombre acción\", self)\n",
    "        accion.setStatusTip(\"Descripción de la acción\")\n",
    "        accion.triggered.connect(funcion) # Si la funcion fuera (Qapplication.quit) se cierra la app\n",
    "        accion.setShortcut(\"{combinción de teclas}\")\n",
    "\n",
    "        ## Menu bar\n",
    "        menubar = self.menuBar() # Se crea el menubar\n",
    "        menu_1 = menubar.addMenu(\"Nombre menú\") # Se agrega un menú al menubar\n",
    "        menu_1.addAction(accion) # Se pueden añadir acciones a los menús\n",
    "\n",
    "        menu_2 = menubar.addMenu(\"Nombre menú 2\") # Se agrega un segundo menú a la barra\n",
    "        menu_2.addAction(accion_2)\n",
    "\n",
    "        ## Toolbar\n",
    "        toolbar = self.addToolBar(\"Nombre toolbar\")\n",
    "        toolbar.addAction(accion)\n",
    "\n",
    "        ## Status bar\n",
    "        self.statusBar().showMessage(\"Estatus\")\n",
    "        self.onchange_status_bar.connect(funcion)\n",
    "\n",
    "        ## Central Widget\n",
    "        self.form = MyWindow(self.onchange_status_bar) # Se inicializa un widget con una clase ventana creada anteriormente\n",
    "        self.setCentralWidget(self.form) # Se crea el widget central\n",
    "\n",
    "    def funcion(self):\n",
    "        self.satusBar()-showMessage(\"Nuevo estatus\")"
   ]
  }
 ],
 "metadata": {
  "language_info": {
   "name": "python"
  }
 },
 "nbformat": 4,
 "nbformat_minor": 2
}
