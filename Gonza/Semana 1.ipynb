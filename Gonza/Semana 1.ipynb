{
 "cells": [
  {
   "cell_type": "markdown",
   "metadata": {},
   "source": [
    "## Encapsulamiento\n",
    "\n",
    "Hacer atributos privados"
   ]
  },
  {
   "cell_type": "code",
   "execution_count": null,
   "metadata": {},
   "outputs": [],
   "source": [
    "class Clase0:\n",
    "\n",
    "    def __init__(self, atributo1, atributo2, atributo3):\n",
    "        self.atributo1 = atributo1 # Público\n",
    "        self._atributo2 = atributo2 # Privado por convención (público)\n",
    "        self.__atributo3 = atributo3 #Pseudo-privado"
   ]
  },
  {
   "cell_type": "markdown",
   "metadata": {},
   "source": [
    "## Properties\n",
    "\n",
    "getter: permite el uso de atributos privados\n",
    "\n",
    "setter: permite modificar atributos privados\n",
    "\n",
    "deleter: borra atributos privados"
   ]
  },
  {
   "cell_type": "code",
   "execution_count": null,
   "metadata": {},
   "outputs": [],
   "source": [
    "class Clase1(Clase0):\n",
    "    def __init__(self):\n",
    "        pass\n",
    "\n",
    "    ### Método 1\n",
    "\n",
    "    # getter\n",
    "\n",
    "    @property\n",
    "    def atributo3(self):\n",
    "        return self.__atributo3\n",
    "    \n",
    "    # setter\n",
    "\n",
    "    @atributo3.setter\n",
    "    def atributo3(self, nuevo_3):\n",
    "        pass\n",
    "\n",
    "    #deleter\n",
    "\n",
    "    @atributo3.deleter\n",
    "    def atributo3(self):\n",
    "        del self.__atributo3\n",
    "\n",
    "    ### Método 2\n",
    "\n",
    "    def _get_atributo3(self):\n",
    "        return self.__atributo3\n",
    "    \n",
    "    def _set_atributo3(self, nuevo_3):\n",
    "        pass\n",
    "\n",
    "    def _del_atributo3(self):\n",
    "        del self.__atributo3\n",
    "\n",
    "    atributo3 = property(_get_atributo3, _set_atributo3, _del_atributo3)\n"
   ]
  }
 ],
 "metadata": {
  "language_info": {
   "name": "python"
  }
 },
 "nbformat": 4,
 "nbformat_minor": 2
}
