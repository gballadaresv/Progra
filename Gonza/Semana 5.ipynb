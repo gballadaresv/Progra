{
 "cells": [
  {
   "cell_type": "markdown",
   "metadata": {},
   "source": [
    "## Threading\n",
    "\n",
    "Los threads son secuencias de instrucciones que se ejecutan de manera simultánea, cada instancia de thread se puede usar sólo una vez."
   ]
  },
  {
   "cell_type": "code",
   "execution_count": null,
   "metadata": {},
   "outputs": [],
   "source": [
    "import threading\n",
    "\n",
    "def funcion_thread():\n",
    "    pass\n",
    "\n",
    "thread = threading.Thread(target=funcion_thread) # Se crea una instancia de thread donde thredea la funcion_thread\n",
    "\n",
    "thread.start() # Cuando se crea un thread no comienza, sólo se crea, se tiene que iniciar \"manualmente\"\n",
    "\n",
    "threading.thread_actual() # Es un método que retorna el nombre del thread desde el cual se ejecuta\n",
    "\n",
    "## Se pueden crear threads personalizados\n",
    "\n",
    "class Thread1(threading.Thread):\n",
    "\n",
    "    def __init__(self, nombre): # Se le pueden poner los argumentos que se necesite\n",
    "        super().__init__(name=nombre) # Se le pone el nombre personalizado\n",
    "\n",
    "    def run(self): # Este método determina lo que hará el thread cuando se le haga el .start()\n",
    "        pass\n",
    "\n",
    "class Thread2(threading.Thread):\n",
    "    def __init__(self, nombre):\n",
    "        super().__init__(name=nombre)\n",
    "\n",
    "        def run(self):\n",
    "            pass\n",
    "Thread1.start()\n",
    "Thread1.join() # El flujo principal se pausa hasta que termine el thread 1\n",
    "Thread2.start() # Como el thread 2 se crea luego que termine el 1, no se va  a crear hasta q el 1 termine\n",
    "Thread2.join(timeout=5) # El flujo principal se pausa x 5 segundos\n",
    "\n",
    "Thread1.is_alive() # Retorna un bool indicando si el thread está activo o no\n",
    "\n",
    "thread_daemon = threading.Thread(name=\"nombre\", target=funcion, daemon=True)\n",
    "# Los daemons permiten que el programa termine aunque el thread esté activo+\n",
    "\n",
    "timer = threading.Timer(1.0, funcion, argumentos) # El Timer ejecuta la funcion con lo argumentos entrgados luego de 1.0 segundos"
   ]
  },
  {
   "cell_type": "markdown",
   "metadata": {},
   "source": [
    "## Locks\n",
    "\n",
    "Los locks permiten bloquear el acceso a una variable compartida por varios threads para evitar errores de sincronización.\n",
    "\n",
    "Hay que tener cuidado de no llegar  a un _deadlock_ (No dejar a 2 threads esperándose mutuamente)"
   ]
  },
  {
   "cell_type": "code",
   "execution_count": null,
   "metadata": {},
   "outputs": [],
   "source": [
    "import threading\n",
    "\n",
    "lock_1 = threading.Lock() # El thread debe ser compartido\n",
    "\n",
    "def funcion(variables, lock):\n",
    "    lock.acquire() # Agarra el lock, sólo el thread que lo posea tendrá acceso a lo que venga\n",
    "    \"Código\"\n",
    "    lock.release() # Suelta el lock, está disponible para que otro thread lo tom\n",
    "\n",
    "    # Alternativamente se puede usar un with\n",
    "    with lock:\n",
    "        \"Código\" # No es necesario cerrarlo\n",
    "\n",
    "thread = thread(target=funcion, variables, lock_1)\n",
    "\n",
    "### También se puede trabajar con locks como isntancias de clase\n",
    "class MiThread(threading.thread):\n",
    "    lock = threading.Lock()\n",
    "\n",
    "    def __init__(self):\n",
    "        super().__init__()\n",
    "\n",
    "    def run(self):\n",
    "        with self.lock:\n",
    "            pass\n",
    "\n",
    "### También hay señales para threads\n",
    "esperar = threading.Event()\n",
    "avisar = threading.Event()\n",
    "revisar = threading.Event()\n",
    "\n",
    "esperar.wait() # Espera hasta que se active la señal\n",
    "avisar.set() # Activa la señal\n",
    "avisar.clear() # Desactiva la señal\n",
    "revisar.is_set() # Revisa si la señal está activa"
   ]
  },
  {
   "cell_type": "markdown",
   "metadata": {},
   "source": [
    "##  Queue\n",
    "\n",
    "El módulo queue implementa métodos para colas (listas, varios elementos)."
   ]
  },
  {
   "cell_type": "code",
   "execution_count": null,
   "metadata": {},
   "outputs": [],
   "source": [
    "from queue import Queue\n",
    "\n",
    "cola = Queue()\n",
    "\n",
    "cola.put(elemento) # Pone el elemento en la cola\n",
    "cola.get() # Saca un elemento de la cola (remueve y retorna), si no hay nada espera hasta que haya algo\n",
    "cola.task_done() # Se tiene que llamar cada vez que se extraiga un elemento (get)"
   ]
  }
 ],
 "metadata": {
  "language_info": {
   "name": "python"
  }
 },
 "nbformat": 4,
 "nbformat_minor": 2
}
