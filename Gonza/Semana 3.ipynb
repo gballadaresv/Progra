{
 "cells": [
  {
   "cell_type": "markdown",
   "metadata": {},
   "source": [
    "## Tuplas ( )\n",
    "\n",
    "Son indexables e inmutables, pueden contener de todo\n",
    "\n",
    "*No se pueden agregar, eliminar ni modificar elementos\n",
    "\n",
    "*Permiten slicing (elegir índices)"
   ]
  },
  {
   "cell_type": "code",
   "execution_count": null,
   "metadata": {},
   "outputs": [],
   "source": [
    "t = tuple() # Crea tupla vacía\n",
    "\n",
    "t = (1, 2, 3) # Con elementos entre paréntesis\n",
    "\n",
    "t = (1,) # Tupla de largo 1\n",
    "\n",
    "t = 0, \"uno\" # Al crearlas se pueden poner sin paréntesis"
   ]
  },
  {
   "cell_type": "markdown",
   "metadata": {},
   "source": [
    "Named tuples:\n",
    "\n",
    "Permiten definir un tipo de tuplas con posiciones asignadas."
   ]
  },
  {
   "cell_type": "code",
   "execution_count": null,
   "metadata": {},
   "outputs": [],
   "source": [
    "from collections import namedtuple\n",
    "\n",
    "nt = namedtuple(\"nombre\", [\"arg1\", \"arg2\"])\n",
    "\n",
    "## Luego se puede \"Instanciar\" nt"
   ]
  },
  {
   "cell_type": "markdown",
   "metadata": {},
   "source": [
    "## Diccionarios { }\n",
    "\n",
    "Llave: valor\n",
    "\n",
    "*No son indexables.\n",
    "\n",
    "*Son mutables.\n",
    "\n",
    "*Se pueden eliminar elementos con el del.\n",
    "\n",
    "*Se puede acceder al valor asociado a una llave usando el método get.\n",
    "\n",
    "\n"
   ]
  },
  {
   "cell_type": "code",
   "execution_count": null,
   "metadata": {},
   "outputs": [],
   "source": [
    "d = {\"llave\": \"valor\"}\n",
    "\n",
    "d.get(\"llave\", \"{si no tiene}\") # Da el valor de una llave\n",
    "d.keys() # Retorna una lista con las llaves\n",
    "d.values() # Retorna una lista con los valores\n",
    "d.items() # Retorna una lista de tuplas (llave, valor)"
   ]
  },
  {
   "cell_type": "markdown",
   "metadata": {},
   "source": [
    "defaultdicts: permite asignar valores por defecto a cada key."
   ]
  },
  {
   "cell_type": "code",
   "execution_count": null,
   "metadata": {},
   "outputs": [],
   "source": [
    "from collections import defaultdict\n",
    "\n",
    "def funcion():\n",
    "    pass\n",
    "\n",
    "dd = defaultdict() # Crea un defaultdict vacío\n",
    "dd = defaultdict(funcion) # Asigna valores según la función."
   ]
  },
  {
   "cell_type": "markdown",
   "metadata": {},
   "source": [
    "## Sets {}\n",
    "\n",
    "Son contenedores mutables y no indecables, no ordenados y no repiten elementos."
   ]
  },
  {
   "cell_type": "code",
   "execution_count": 1,
   "metadata": {},
   "outputs": [],
   "source": [
    "c = set() # Set vacío\n",
    "\n",
    "# El principal uso de los sets es para transformar desde algo que tenga elementos repetidos\n",
    "\n",
    "c.add(\"Elemento\") # Agrega un elemento al set\n",
    "c.remove(\"Elemento\") # Elimina un elemento del set\n",
    "c.discard(\"Elemento\") # Elimina, pero no lanza error si no está\n",
    "\n",
    "c1 = {1, 2, 3}\n",
    "c2 = {3, 4, 5}\n",
    "\n",
    "# Unión\n",
    "c1 | c2\n",
    "c1.union(c2)\n",
    "\n",
    "# Intersección\n",
    "c1 & c2\n",
    "c1.intersection(c2)\n",
    "\n",
    "# Diferencia\n",
    "c1 - c2 \n",
    "c1.difference(c2) ## != c2.difference(c1)\n",
    "\n",
    "# Diferencia simétrica (Intersección'nt)\n",
    "c1 ^ c2\n",
    "c1.symmetric_difference(c2)"
   ]
  },
  {
   "cell_type": "markdown",
   "metadata": {},
   "source": [
    "## args y kwargs\n",
    "\n",
    "_\"Ponle todo lo que debe tener\"_\n",
    "\n",
    "*args: arguments, objeto iterable e indexable.\n",
    "\n",
    "**Kwargs: keyword arguments, diccionario."
   ]
  },
  {
   "cell_type": "code",
   "execution_count": 2,
   "metadata": {},
   "outputs": [],
   "source": [
    "def funcion(arg_x, arg_y=1, *args, **kwars):\n",
    "    pass\n",
    "# Primero se ponen los argumentos estandar\n",
    "# Los argumentos por defecto no pueden ir antes que los normales\n",
    "# ** No puede ir antes que *\n",
    "# args y kwargs permite admitir una cantidad indeterminada de argumentos"
   ]
  },
  {
   "cell_type": "markdown",
   "metadata": {},
   "source": [
    "## Iterables\n",
    "\n",
    "Iterables: Algo sobre lo que se puede iterar\n",
    "\n",
    "Iterador: Lo que itera"
   ]
  },
  {
   "cell_type": "code",
   "execution_count": null,
   "metadata": {},
   "outputs": [],
   "source": [
    "class Iterable:\n",
    "\n",
    "    def __init__(self, objeto):\n",
    "        self.objeto = objeto\n",
    "\n",
    "    def __iter__(self): # \"Soy un iterable, itérenme\"\n",
    "        return Iterador(self.objeto) # La parte que itera\n",
    "    \n",
    "\n",
    "class Iterador:\n",
    "\n",
    "    def __init__(self, iterable):\n",
    "        self.iterable = iterable.copy() # Se hace una copia para no afectar el original\n",
    "\n",
    "    def __iter__(self): # Te da la \"posición\" (dónde quedó)\n",
    "        return self \n",
    "    \n",
    "    def __next__(self): # Permite ir al siguiente elemento\n",
    "        if not self.iterable: # Si llegaste al final, \n",
    "            raise StopIteration\n",
    "        else:\n",
    "            valor = self.iterable.pop(0)\n",
    "            return valor\n"
   ]
  },
  {
   "cell_type": "markdown",
   "metadata": {},
   "source": [
    "## Generadores\n",
    "\n",
    "Son como los iteradores, pero no los guarda, los va generando espontáneamente"
   ]
  },
  {
   "cell_type": "code",
   "execution_count": null,
   "metadata": {},
   "outputs": [],
   "source": [
    "generador = (i for i in range(10))"
   ]
  },
  {
   "cell_type": "markdown",
   "metadata": {},
   "source": [
    "Funciones generadoras:\n",
    "\n",
    "Se pueden usar funciones para generar.\n",
    "\n",
    "*El yield retorna desde donde quedó."
   ]
  },
  {
   "cell_type": "code",
   "execution_count": null,
   "metadata": {},
   "outputs": [],
   "source": [
    "def fun_gen(x):\n",
    "    a = \"lo que ahce la función\"\n",
    "    yield a"
   ]
  },
  {
   "cell_type": "markdown",
   "metadata": {},
   "source": [
    "Funciones Lambda:\n",
    "\n",
    "Son funciones cortas, a un parámetro le asignan una función."
   ]
  },
  {
   "cell_type": "code",
   "execution_count": null,
   "metadata": {},
   "outputs": [],
   "source": [
    "from functools import reduce\n",
    "\n",
    "\n",
    "\n",
    "\n",
    "lambda parametro: f\"lo que hace con el {parametro}\"\n",
    "\n",
    "map(funcion, iterable) # Genera la funcion aplicada a cada elemento del iterable\n",
    "\n",
    "filter(condicion, iterable) # Retorna los elementos del iterable que pasen el filtro (True)\n",
    "\n",
    "reduce(funcion, iterable) # Generador recursivo, llama al resultado, y al siguiente elemento (ej: Fibonacci)\n",
    "\n",
    "zip(elemento1, elemento2) # Retorna una tupla uniendo cada elemento de los iterables por cada iterable\n",
    "\n",
    "## Se puede ahcer zip(*zipped) para des-zippear un zip"
   ]
  }
 ],
 "metadata": {
  "kernelspec": {
   "display_name": "Python 3",
   "language": "python",
   "name": "python3"
  },
  "language_info": {
   "codemirror_mode": {
    "name": "ipython",
    "version": 3
   },
   "file_extension": ".py",
   "mimetype": "text/x-python",
   "name": "python",
   "nbconvert_exporter": "python",
   "pygments_lexer": "ipython3",
   "version": "3.10.11"
  }
 },
 "nbformat": 4,
 "nbformat_minor": 2
}
