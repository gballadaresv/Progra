{
 "cells": [
  {
   "cell_type": "markdown",
   "metadata": {},
   "source": [
    "# Iterables / Iteradores"
   ]
  },
  {
   "cell_type": "markdown",
   "metadata": {},
   "source": [
    "Iterable: elemento que puede indexar\n",
    "Iterador: funcion que recorre los indices del iterable"
   ]
  },
  {
   "cell_type": "code",
   "execution_count": 6,
   "metadata": {},
   "outputs": [
    {
     "name": "stdout",
     "output_type": "stream",
     "text": [
      "1\n",
      "2\n",
      "3\n",
      "4\n"
     ]
    },
    {
     "ename": "StopIteration",
     "evalue": "",
     "output_type": "error",
     "traceback": [
      "\u001b[1;31m---------------------------------------------------------------------------\u001b[0m",
      "\u001b[1;31mStopIteration\u001b[0m                             Traceback (most recent call last)",
      "\u001b[1;32mc:\\Users\\fauge\\OneDrive\\Escritorio\\Avanzada\\ArthurFJ-iic2233-2023-2\\Resumen\\sm03.ipynb Cell 3\u001b[0m line \u001b[0;36m5\n\u001b[0;32m      <a href='vscode-notebook-cell:/c%3A/Users/fauge/OneDrive/Escritorio/Avanzada/ArthurFJ-iic2233-2023-2/Resumen/sm03.ipynb#W4sZmlsZQ%3D%3D?line=1'>2</a>\u001b[0m iterador \u001b[39m=\u001b[39m \u001b[39miter\u001b[39m(iterable)\n\u001b[0;32m      <a href='vscode-notebook-cell:/c%3A/Users/fauge/OneDrive/Escritorio/Avanzada/ArthurFJ-iic2233-2023-2/Resumen/sm03.ipynb#W4sZmlsZQ%3D%3D?line=3'>4</a>\u001b[0m \u001b[39mwhile\u001b[39;00m iterable:\n\u001b[1;32m----> <a href='vscode-notebook-cell:/c%3A/Users/fauge/OneDrive/Escritorio/Avanzada/ArthurFJ-iic2233-2023-2/Resumen/sm03.ipynb#W4sZmlsZQ%3D%3D?line=4'>5</a>\u001b[0m     \u001b[39mprint\u001b[39m(\u001b[39mnext\u001b[39;49m(iterador))\n",
      "\u001b[1;31mStopIteration\u001b[0m: "
     ]
    }
   ],
   "source": [
    "iterable = {1, 2, 3, 4}\n",
    "iterador = iter(iterable)\n",
    "\n",
    "while iterable:\n",
    "    print(next(iterador))"
   ]
  },
  {
   "cell_type": "code",
   "execution_count": 19,
   "metadata": {},
   "outputs": [
    {
     "name": "stdout",
     "output_type": "stream",
     "text": [
      "1 2 3 4 "
     ]
    }
   ],
   "source": [
    "class Iter():\n",
    "\n",
    "    def __init__(self, iterable):\n",
    "        self.iterable = iterable.copy()\n",
    "\n",
    "    def __iter__(self): \n",
    "        return self\n",
    "\n",
    "    def __next__(self):\n",
    "        if not self.iterable:\n",
    "            raise StopIteration(\"Llegamos al final\")\n",
    "        else:\n",
    "            valor = self.iterable.pop(0)\n",
    "            return valor\n",
    "\n",
    "\n",
    "el_iterable = Iter([1, 2, 3, 4])\n",
    "for item in iter(el_iterable):\n",
    "    print(item, end = ' ')"
   ]
  },
  {
   "cell_type": "markdown",
   "metadata": {},
   "source": [
    "# Generadores"
   ]
  },
  {
   "cell_type": "markdown",
   "metadata": {},
   "source": [
    "Iteran sobre elementos parametrizandolos en funciones\n",
    "No se guardan por lo que hay que volver a hacer uno a cada rato\n",
    "\n",
    "Es como una lista por compresion, pero es un iterador\n",
    "\n",
    "Uso de \"yield\" como el return desde donde dejo de iterarse"
   ]
  },
  {
   "cell_type": "code",
   "execution_count": null,
   "metadata": {},
   "outputs": [],
   "source": [
    "generador_iterador = (lambda retorno: iterador(retorno), iterable)"
   ]
  },
  {
   "cell_type": "code",
   "execution_count": null,
   "metadata": {},
   "outputs": [],
   "source": [
    "resultados = lambda parametros: function(parametros)"
   ]
  },
  {
   "cell_type": "markdown",
   "metadata": {},
   "source": [
    "Map: Generador de los resultados de una funcion en un iterable\n",
    "\n",
    "map(f, iterable)"
   ]
  },
  {
   "cell_type": "code",
   "execution_count": 30,
   "metadata": {},
   "outputs": [
    {
     "name": "stdout",
     "output_type": "stream",
     "text": [
      "señores pasajeros\n",
      "disculpen\n",
      "mi\n",
      "intención\n",
      "no\n",
      "es\n",
      "molestar\n"
     ]
    },
    {
     "ename": "StopIteration",
     "evalue": "",
     "output_type": "error",
     "traceback": [
      "\u001b[1;31m---------------------------------------------------------------------------\u001b[0m",
      "\u001b[1;31mStopIteration\u001b[0m                             Traceback (most recent call last)",
      "\u001b[1;32mc:\\Users\\fauge\\OneDrive\\Escritorio\\Avanzada\\ArthurFJ-iic2233-2023-2\\Resumen\\sm03.ipynb Cell 10\u001b[0m line \u001b[0;36m4\n\u001b[0;32m      <a href='vscode-notebook-cell:/c%3A/Users/fauge/OneDrive/Escritorio/Avanzada/ArthurFJ-iic2233-2023-2/Resumen/sm03.ipynb#X20sZmlsZQ%3D%3D?line=1'>2</a>\u001b[0m mapeo \u001b[39m=\u001b[39m \u001b[39mmap\u001b[39m(\u001b[39mlambda\u001b[39;00m x: x\u001b[39m.\u001b[39mlower(), strings)\n\u001b[0;32m      <a href='vscode-notebook-cell:/c%3A/Users/fauge/OneDrive/Escritorio/Avanzada/ArthurFJ-iic2233-2023-2/Resumen/sm03.ipynb#X20sZmlsZQ%3D%3D?line=2'>3</a>\u001b[0m \u001b[39mwhile\u001b[39;00m mapeo:\n\u001b[1;32m----> <a href='vscode-notebook-cell:/c%3A/Users/fauge/OneDrive/Escritorio/Avanzada/ArthurFJ-iic2233-2023-2/Resumen/sm03.ipynb#X20sZmlsZQ%3D%3D?line=3'>4</a>\u001b[0m     \u001b[39mprint\u001b[39m(\u001b[39mnext\u001b[39;49m(mapeo))\n",
      "\u001b[1;31mStopIteration\u001b[0m: "
     ]
    }
   ],
   "source": [
    "strings = ['Señores pasajeros', 'Disculpen', 'mi', 'IntencIÓN', 'no', 'Es', 'MolEstar']\n",
    "mapeo = map(lambda x: x.lower(), strings)\n",
    "while mapeo:\n",
    "    print(next(mapeo))"
   ]
  },
  {
   "cell_type": "markdown",
   "metadata": {},
   "source": [
    "Filter: Generador que retorna booleanos\n",
    "\n",
    "filter(f, iterable)"
   ]
  },
  {
   "cell_type": "code",
   "execution_count": 31,
   "metadata": {},
   "outputs": [
    {
     "name": "stdout",
     "output_type": "stream",
     "text": [
      "[1, 1, 3, 5, 13, 21, 55]\n",
      "[2, 8, 34]\n"
     ]
    }
   ],
   "source": [
    "def fibonacci(límite):\n",
    "    a, b = 0, 1\n",
    "    for _ in range(límite):\n",
    "        yield b\n",
    "        a, b = b, a + b\n",
    "\n",
    "filtrado_impares = filter(lambda x: x % 2 != 0, fibonacci(10))\n",
    "print(list(filtrado_impares))\n",
    "\n",
    "filtrado_pares = filter(lambda x: x % 2 == 0, fibonacci(10))\n",
    "print(list(filtrado_pares))"
   ]
  },
  {
   "cell_type": "markdown",
   "metadata": {},
   "source": [
    "Reduce: Generador recursivo que llama una funcion con parametros de resultados y el siguiente del iterador\n",
    "\n",
    "refuce(f, iterable)"
   ]
  },
  {
   "cell_type": "code",
   "execution_count": 32,
   "metadata": {},
   "outputs": [
    {
     "data": {
      "text/plain": [
       "21"
      ]
     },
     "execution_count": 32,
     "metadata": {},
     "output_type": "execute_result"
    }
   ],
   "source": [
    "from functools import reduce\n",
    "lista = [1, 2, 3, 4, 5, 6]\n",
    "\n",
    "reduce(lambda x, y: x + y, lista)"
   ]
  }
 ],
 "metadata": {
  "kernelspec": {
   "display_name": "Python 3",
   "language": "python",
   "name": "python3"
  },
  "language_info": {
   "codemirror_mode": {
    "name": "ipython",
    "version": 3
   },
   "file_extension": ".py",
   "mimetype": "text/x-python",
   "name": "python",
   "nbconvert_exporter": "python",
   "pygments_lexer": "ipython3",
   "version": "3.10.11"
  }
 },
 "nbformat": 4,
 "nbformat_minor": 2
}
