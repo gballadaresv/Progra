{
 "cells": [
  {
   "cell_type": "markdown",
   "metadata": {},
   "source": [
    "# Threads"
   ]
  },
  {
   "cell_type": "markdown",
   "metadata": {},
   "source": [
    "Los threads van a alternarse si no hay los suficientes nucleos para procesar\n",
    "\n",
    "Cada thread lleva variables locales\n",
    "\n",
    "Se escoje un thread de los que se quiera ejecutar, y no se ejecutan todos a la vez"
   ]
  },
  {
   "cell_type": "code",
   "execution_count": 1,
   "metadata": {},
   "outputs": [],
   "source": [
    "import threading\n",
    "import time"
   ]
  },
  {
   "cell_type": "code",
   "execution_count": 7,
   "metadata": {},
   "outputs": [
    {
     "name": "stdout",
     "output_type": "stream",
     "text": [
      "Tengo sueño...\n",
      "(1 oveja)\n",
      "(2 ovejas)\n",
      "(3 ovejas)\n",
      "(4 ovejas)\n",
      "(5 ovejas)\n",
      "(6 ovejas)\n",
      "(7 ovejas)\n",
      "(8 ovejas)\n",
      "(9 ovejas)\n",
      "(10 ovejas)\n",
      "A dormir...\n"
     ]
    }
   ],
   "source": [
    "def contar_diez_ovejas():\n",
    "    print(\"Tengo sueño...\")\n",
    "    for numero in range(1, 11):\n",
    "        print(f\"({numero} oveja{'s' if numero > 1 else ''})\")\n",
    "    print(\"A dormir...\")\n",
    "\n",
    "mi_hilo = threading.Thread(target=contar_diez_ovejas)\n",
    "mi_hilo.start()"
   ]
  },
  {
   "cell_type": "markdown",
   "metadata": {},
   "source": [
    ".start() ejecuta el thread\n",
    ".join() pausa el main thread hasta que termine de ejecutarse el thread\n",
    ".is_alive() ver si el thread aun funciona"
   ]
  },
  {
   "cell_type": "markdown",
   "metadata": {},
   "source": [
    "Daemons"
   ]
  },
  {
   "cell_type": "markdown",
   "metadata": {},
   "source": [
    "Si es daemon thread, (daemon = True), no impide que se termine el programa\n",
    "\n",
    "Si no es daemon thread, (daemon = False), impide que se termine el programa "
   ]
  }
 ],
 "metadata": {
  "kernelspec": {
   "display_name": "Python 3",
   "language": "python",
   "name": "python3"
  },
  "language_info": {
   "codemirror_mode": {
    "name": "ipython",
    "version": 3
   },
   "file_extension": ".py",
   "mimetype": "text/x-python",
   "name": "python",
   "nbconvert_exporter": "python",
   "pygments_lexer": "ipython3",
   "version": "3.10.11"
  }
 },
 "nbformat": 4,
 "nbformat_minor": 2
}
