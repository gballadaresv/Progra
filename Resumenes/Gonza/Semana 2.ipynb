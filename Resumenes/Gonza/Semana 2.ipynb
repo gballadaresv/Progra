{
 "cells": [
  {
   "cell_type": "markdown",
   "metadata": {},
   "source": [
    "## Herencia\n",
    "\n",
    "Subclases heredan de superclases.\n",
    "\n"
   ]
  },
  {
   "cell_type": "code",
   "execution_count": null,
   "metadata": {},
   "outputs": [],
   "source": [
    "class Clase1:\n",
    "    \n",
    "    def __init__(self):\n",
    "        pass\n",
    "\n",
    "class Clase2(Clase1):\n",
    "\n",
    "    def __init__(self):\n",
    "        super().__init__()"
   ]
  },
  {
   "cell_type": "markdown",
   "metadata": {},
   "source": [
    "## Polimorfismo\n",
    "\n",
    "Overriding: se sobreescriben métodos.\n",
    "\n",
    "repr: es una representación del objeto\n",
    "\n",
    "str: printea"
   ]
  },
  {
   "cell_type": "code",
   "execution_count": null,
   "metadata": {},
   "outputs": [],
   "source": [
    "class Clase:\n",
    "    def __init__(self) -> None:\n",
    "        pass\n",
    "    \n",
    "    # busca representar un objeto\n",
    "    def __repr__(self) -> str:\n",
    "        return f\"string a retornar\"\n",
    "    \n",
    "    # lo que retornará el print\n",
    "    def __str__(self) -> str:\n",
    "        return f\"string a retornar\""
   ]
  },
  {
   "cell_type": "markdown",
   "metadata": {},
   "source": [
    "## Multiherencia\n",
    "\n",
    "Cuando se hereda de más de una clase a la vez\n",
    "\n",
    "*Problema del diamante: se llaman métodos del mismo nombre de las clases padres."
   ]
  },
  {
   "cell_type": "code",
   "execution_count": 1,
   "metadata": {},
   "outputs": [],
   "source": [
    "class Clase0:\n",
    "    def __init__(self) -> None:\n",
    "        pass\n",
    "\n",
    "    def metodo(self):\n",
    "        pass\n",
    "\n",
    "class Clase1(Clase0):\n",
    "    def __init__(self, *args, **kwargs) -> None:\n",
    "        super().__init__(*args, **kwargs)\n",
    "\n",
    "    def metodo(self):\n",
    "        super().metodo()\n",
    "\n",
    "class Clase2(Clase0):\n",
    "    def __init__(self, *args, **kwargs) -> None:\n",
    "        super().__init__(*args, **kwargs)\n",
    "    \n",
    "    def metodo(self):\n",
    "        super().metodo()\n",
    "    \n",
    "class Clase3(Clase1, Clase2):\n",
    "    def __init__(self, *args, **kwargs) -> None:\n",
    "        super().__init__(*args, **kwargs)\n",
    "    \n",
    "    def metodo(self):\n",
    "        super().metodo()\n",
    "\n",
    "#####\n",
    "Clase3.__mro__ # Retorna el orden en el que se llaman las herencias"
   ]
  },
  {
   "cell_type": "markdown",
   "metadata": {},
   "source": [
    "## Clases abstractas\n",
    "\n",
    "Sirven para hacer un molde para las clases que la heredarán, te obligan a sobreescribir métodos y pueden evitarte definir los mismos atributos para muchas clases hijas.\n",
    "\n",
    "*Pueden no estar vacías y contener lógica y atributos."
   ]
  },
  {
   "cell_type": "code",
   "execution_count": null,
   "metadata": {},
   "outputs": [],
   "source": [
    "from abc import ABC, abstractmethod\n",
    "\n",
    "class Clase(ABC):\n",
    "\n",
    "    @abstractmethod\n",
    "    def metodo_1(self):\n",
    "        pass\n",
    "\n",
    "class Subclase(Clase):\n",
    "    def metodo_1(self):\n",
    "        pass"
   ]
  },
  {
   "cell_type": "markdown",
   "metadata": {},
   "source": [
    "## Staticmethod\n",
    "\n",
    "Sirven para poder usar métodos de clases sin self."
   ]
  },
  {
   "cell_type": "code",
   "execution_count": null,
   "metadata": {},
   "outputs": [],
   "source": [
    "class Clase:\n",
    "    \n",
    "    # No necesita self\n",
    "    @staticmethod\n",
    "    def metodo(variable1, variable2):\n",
    "        pass"
   ]
  }
 ],
 "metadata": {
  "kernelspec": {
   "display_name": "Python 3",
   "language": "python",
   "name": "python3"
  },
  "language_info": {
   "codemirror_mode": {
    "name": "ipython",
    "version": 3
   },
   "file_extension": ".py",
   "mimetype": "text/x-python",
   "name": "python",
   "nbconvert_exporter": "python",
   "pygments_lexer": "ipython3",
   "version": "3.10.11"
  }
 },
 "nbformat": 4,
 "nbformat_minor": 2
}
