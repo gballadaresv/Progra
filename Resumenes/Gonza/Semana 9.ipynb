{
 "cells": [
  {
   "cell_type": "markdown",
   "metadata": {},
   "source": [
    "### Networking\n",
    "* Direcciones IP: Es la identificación de cada máquina.\n",
    "* DNS: Domain Name System, asocia la dirección IP de algunos hosts a dominios (ej. canvas.uc.cl)\n",
    "* Puertos: Cada host tiene múltiples puertos, cada programa un puerto distinto para comunicarse.\n",
    "* Protocolos de transporte: Los mensajes en internet son secuencias de bytes serializados, se dividen en paquetes, cada paquete tiene el host y puerto de destino\n",
    "* TCP: Transmission Control Protocol, más reliable, más lento, se establece una conexión entre emisor y receptor, y se checkea que lleguen bien los datos.\n",
    "* UDP: User Data Protocol, privilegia la rapidez por sobre la reliability, no garantiza que lleguen todos los datos, los que no llegan no se recuperan.\n",
    "* Socket: Objeto que permite transmitir y recibir datos, se tiene que especificar el tipo de IP y el protocolo."
   ]
  },
  {
   "cell_type": "code",
   "execution_count": null,
   "metadata": {},
   "outputs": [],
   "source": [
    "import socket\n",
    "\n",
    "sock = socket.socket(socket.AF_INET, socket.SOCK_STREAM)\n",
    "### IP:\n",
    "# AF_INET para IPv4\n",
    "# AF_INET6 para IPv6\n",
    "\n",
    "### Protocolo:\n",
    "# SOCK_STREAM para TCP\n",
    "# SOCK_DGRAM para UDP\n",
    "\n",
    "sock.connect((\"IP\", puerto)) # Tambipen se puede poner la DNS en vez de la dirección IP\n",
    "\n",
    "sock.send(byts) # Envía los bytes, si hay un error, retorna la cantidad de bytes que alcanzó a enviar.\n",
    "sock.sendall(byts)  # Envía todos los bytes, pero si hay un error, tira error, no sabemos qué se alcanzó a mandar.\n",
    "\n",
    "# Para comunicarse, se necesita la IP y el puerto de destino.\n",
    "# El cliente es el que establece la conexión, el servidor sólo debe estar escuchando para cuando haya conexión."
   ]
  }
 ],
 "metadata": {
  "language_info": {
   "name": "python"
  }
 },
 "nbformat": 4,
 "nbformat_minor": 2
}
