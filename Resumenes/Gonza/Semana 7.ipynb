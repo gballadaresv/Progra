{
 "cells": [
  {
   "cell_type": "markdown",
   "metadata": {},
   "source": [
    "### Serialización\n",
    "* Pickle: Nativo de python, permite guardar casi cualquier objeto, no es legible por humano, por lo que no es seguro, es eficiente en memoria.\n",
    "* JSON: JavaScript Oriented Notation, guarda las clases básicas, es legible por humanos, su sintaxis es similiar a diccionarios, no es tan eficiente."
   ]
  },
  {
   "cell_type": "code",
   "execution_count": null,
   "metadata": {},
   "outputs": [],
   "source": [
    "import pickle\n",
    "import json\n",
    "\n",
    "### Pickle\n",
    "\n",
    "# Serializa un objeto\n",
    "objeto_serializado = pickle.dumps(objeto)\n",
    "\n",
    "# Deserializa un objeto\n",
    "objeto = pickle.loads(objeto_serializado)\n",
    "\n",
    "# Serializan y deserializan a través de archivos\n",
    "with open(\"archivo\", \"wb\") as file:\n",
    "    pickle.dump(objeto, file) # Sin s\n",
    "with open(\"archivo\", \"rb\") as file:\n",
    "    objeto = pickle.load(file)\n",
    "\n",
    "### JSON\n",
    "\n",
    "# Serializa un objeto\n",
    "objeto_serializado = json.dumps(objeto.__dict__) # Hay que pasarlo a diccionario para guardarlo en json, las llaves son los atributos\n",
    "\n",
    "# Deserializa\n",
    "objeto = json.loads(objeto_serializado) # Retorna un diccionario\n",
    "\n",
    "# También tiene los métodos dump y load para trabajar con archivos"
   ]
  },
  {
   "cell_type": "markdown",
   "metadata": {},
   "source": [
    "### Manejo de Bytes\n",
    "Los bytes pueden ser distintos carácteres o incluso imágenes, la interpretación depende del método de desencriptacióm."
   ]
  },
  {
   "cell_type": "code",
   "execution_count": null,
   "metadata": {},
   "outputs": [],
   "source": [
    "byts = b\"/x00\" # Puede ir cualquier cosa entre comillas, como un string, el /x** es un formato de byte estándar\n",
    "\n",
    "byts.decode(\"encoding\") # Decodifica bytes\n",
    "\n",
    "\"string\".encode(\"encoding\") # Codifica un str a bytes\n"
   ]
  },
  {
   "cell_type": "markdown",
   "metadata": {},
   "source": [
    "Bytearrays: Son listas de bytes mutables, se suelen trabajar con chunks para no trabajar con un bytearray gigante"
   ]
  },
  {
   "cell_type": "code",
   "execution_count": null,
   "metadata": {},
   "outputs": [],
   "source": [
    "ba = bytearray(b\"bytes\")\n",
    "\n",
    "ba.extend(b\"mas bytes\") # Appendea bytes al bytearray\n",
    "\n",
    "ba.append(int) # Sólo funciona con ints, es como un extend de /x{int}, appendea la representación en bytes del número (0-255)\n",
    "# Si tratamos de ver el número en su posición, mostrará el número, pero si vemos un slice, lo veremos como byte"
   ]
  },
  {
   "cell_type": "markdown",
   "metadata": {},
   "source": [
    "Transformar números:\n",
    "\n",
    "\n",
    "*No confiar en el print de esto, puede verse distinto a lo que esperamos, pero representando el mismo número"
   ]
  },
  {
   "cell_type": "code",
   "execution_count": null,
   "metadata": {},
   "outputs": [],
   "source": [
    "(int).to_bytes(length={largo_del_ba}, byteorder=\"big o little\") # Big ordena de más grande a más pequeño, little al revés\n",
    "# Si el largo del bytearray es menor al largo del byte para representar, rellena con /x00\n",
    "\n",
    "int.from_bytes(b\"bytearay\", byteorder=\"big o little\") # Retorna el número del bytearray según el orden indicado.\n",
    "# Si el bytearray es de largo 1, da lo mismo el orden, si es más largo, importa."
   ]
  },
  {
   "cell_type": "markdown",
   "metadata": {},
   "source": [
    "### Excepciones\n",
    "\n",
    "\n",
    "**Terminar"
   ]
  }
 ],
 "metadata": {
  "kernelspec": {
   "display_name": "Python 3",
   "language": "python",
   "name": "python3"
  },
  "language_info": {
   "codemirror_mode": {
    "name": "ipython",
    "version": 3
   },
   "file_extension": ".py",
   "mimetype": "text/x-python",
   "name": "python",
   "nbconvert_exporter": "python",
   "pygments_lexer": "ipython3",
   "version": "3.10.11"
  }
 },
 "nbformat": 4,
 "nbformat_minor": 2
}
